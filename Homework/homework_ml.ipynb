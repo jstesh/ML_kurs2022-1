import pandas as pd

# загружаем данные
data = pd.read_csv('train_dataset_train.csv', sep=',')
columns_to_drop = [
    'id',
    'ticket_id',
    'entrance_id',
    'entrance_nm',
    'station_nm',
    'line_nm'
]
data = data.drop(columns=columns_to_drop,axis = 1)
data['pass_dttm'] = pd.to_datetime(data['pass_dttm'])
data['hour'] = data['pass_dttm'].dt.hour
columns_to_drop = ['pass_dttm']
data = data.drop(columns=columns_to_drop,axis = 1)
arr = [i+1 for i in range(61)]
n = list(data['ticket_type_nm'].unique())
data.ticket_type_nm.replace({n[i]:arr[i] for i in range(len(n))},inplace=True)

df_pred = data['time_to_under']
data.drop(['time_to_under'],axis=1,inplace=True)
from sklearn.model_selection import train_test_split
X_train, X_test, y_train, y_test = train_test_split(data, df_pred, test_size=0.3)
### предсказываем time_to_under
from sklearn.linear_model import LinearRegression
from sklearn.metrics import r2_score
model = LinearRegression()
model.fit(X_train,y_train)
y_pred = model.predict(X_test)
r2 = r2_score(y_test,y_pred)

df_pred = data['label']
data2 = data.drop(['label'],axis=1)
## предсказываем lable
from sklearn.tree import DecisionTreeClassifier
logreg = DecisionTreeClassifier()
X_train, X_test, y_train, y_test = train_test_split(data2, df_pred, test_size=0.1)
#X_train, X_test, y_train, y_test = train_test_split(X_test, y_test, test_size=0.3)
logreg.fit(X_train, y_train)
y_predict = logreg.predict(X_test)
from sklearn.metrics import recall_score
recall = recall_score(y_test, y_predict, average='micro')
print(recall)
#метрика
res = 0.5*r2+0.5*recall
